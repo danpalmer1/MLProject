{
 "cells": [
  {
   "cell_type": "code",
   "execution_count": 9,
   "metadata": {},
   "outputs": [],
   "source": [
    "import math\n",
    "\n",
    "def get_data_from_file(filename):\n",
    "    instances = []\n",
    "    fin = open(filename, \"r\")\n",
    "\n",
    "    for line in fin:\n",
    "        instances.append(line.strip().split(\",\"))\n",
    "\n",
    "    fin.close()\n",
    "\n",
    "    return instances"
   ]
  },
  {
   "cell_type": "code",
   "execution_count": 10,
   "metadata": {},
   "outputs": [
    {
     "name": "stdout",
     "output_type": "stream",
     "text": [
      "[['vhigh', 'vhigh', '2', '2', 'small', 'low', 'unacc'], ['vhigh', 'vhigh', '2', '2', 'small', 'med', 'unacc'], ['vhigh', 'vhigh', '2', '2', 'small', 'high', 'unacc'], ['vhigh', 'vhigh', '2', '2', 'med', 'low', 'unacc'], ['vhigh', 'vhigh', '2', '2', 'med', 'med', 'unacc'], ['vhigh', 'vhigh', '2', '2', 'med', 'high', 'unacc'], ['vhigh', 'vhigh', '2', '2', 'big', 'low', 'unacc'], ['vhigh', 'vhigh', '2', '2', 'big', 'med', 'unacc'], ['vhigh', 'vhigh', '2', '2', 'big', 'high', 'unacc'], ['vhigh', 'vhigh', '2', '4', 'small', 'low', 'unacc']] \n",
      "\n"
     ]
    }
   ],
   "source": [
    "car_data = get_data_from_file(\"car.data\")\n",
    "print(car_data[:10], '\\n')"
   ]
  },
  {
   "cell_type": "code",
   "execution_count": 22,
   "metadata": {},
   "outputs": [],
   "source": [
    "# Create a function to open attributes file\n",
    "# Return list of attribute values, along with attrib name\n",
    "\n",
    "def get_attribs_from_file(filename):\n",
    "    attribs = []\n",
    "    fin = open(filename,\"r\")\n",
    "    \n",
    "    for line in fin:\n",
    "        words = line.strip().split()\n",
    "        attribs.append(words[1:])\n",
    "        \n",
    "    return attribs"
   ]
  },
  {
   "cell_type": "code",
   "execution_count": 23,
   "metadata": {},
   "outputs": [
    {
     "name": "stdout",
     "output_type": "stream",
     "text": [
      "[['vhigh', 'high', 'med', 'low'], ['vhigh', 'high', 'med', 'low'], ['2', '3', '4', '5', 'more'], ['2', '4', 'more'], ['small', 'med', 'big'], ['low', 'med', 'high']]\n"
     ]
    }
   ],
   "source": [
    "# Print attrib info\n",
    "car_attribs = get_attribs_from_file(\"car.c45-names\")\n",
    "print(car_attribs)"
   ]
  }
 ],
 "metadata": {
  "kernelspec": {
   "display_name": "Python 3 (ipykernel)",
   "language": "python",
   "name": "python3"
  },
  "language_info": {
   "codemirror_mode": {
    "name": "ipython",
    "version": 3
   },
   "file_extension": ".py",
   "mimetype": "text/x-python",
   "name": "python",
   "nbconvert_exporter": "python",
   "pygments_lexer": "ipython3",
   "version": "3.11.4"
  }
 },
 "nbformat": 4,
 "nbformat_minor": 2
}
