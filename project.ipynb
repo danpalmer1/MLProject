{
 "cells": [
  {
   "cell_type": "code",
   "execution_count": 1,
   "metadata": {},
   "outputs": [],
   "source": [
    "import math\n",
    "\n",
    "def get_data_from_file(filename):\n",
    "    instances = []\n",
    "    fin = open(filename, \"r\")\n",
    "\n",
    "    for line in fin:\n",
    "        instances.append(line.strip().split(\",\"))\n",
    "\n",
    "    fin.close()\n",
    "\n",
    "    return instances"
   ]
  },
  {
   "cell_type": "code",
   "execution_count": 2,
   "metadata": {},
   "outputs": [
    {
     "name": "stdout",
     "output_type": "stream",
     "text": [
      "[['vhigh', 'vhigh', '2', '2', 'small', 'low', 'unacc'], ['vhigh', 'vhigh', '2', '2', 'small', 'med', 'unacc'], ['vhigh', 'vhigh', '2', '2', 'small', 'high', 'unacc'], ['vhigh', 'vhigh', '2', '2', 'med', 'low', 'unacc'], ['vhigh', 'vhigh', '2', '2', 'med', 'med', 'unacc'], ['vhigh', 'vhigh', '2', '2', 'med', 'high', 'unacc'], ['vhigh', 'vhigh', '2', '2', 'big', 'low', 'unacc'], ['vhigh', 'vhigh', '2', '2', 'big', 'med', 'unacc'], ['vhigh', 'vhigh', '2', '2', 'big', 'high', 'unacc'], ['vhigh', 'vhigh', '2', '4', 'small', 'low', 'unacc']] \n",
      "\n"
     ]
    }
   ],
   "source": [
    "car_data = get_data_from_file(\"car.data\")\n",
    "print(car_data[:10], '\\n')"
   ]
  },
  {
   "cell_type": "code",
   "execution_count": 3,
   "metadata": {},
   "outputs": [],
   "source": [
    "#method to get feature names from attributes file\n",
    "def get_features(filename):\n",
    "    feat_list = []\n",
    "    fin = open(filename, \"r\")\n",
    "\n",
    "    for line in fin:\n",
    "        attrib = line.strip().split(':')\n",
    "        feat_list.append(attrib[0])\n",
    "\n",
    "    return feat_list"
   ]
  },
  {
   "cell_type": "code",
   "execution_count": 4,
   "metadata": {},
   "outputs": [
    {
     "name": "stdout",
     "output_type": "stream",
     "text": [
      "['buying', 'maint', 'doors', 'persons', 'lug_boot', 'safety']\n"
     ]
    }
   ],
   "source": [
    "feat_names = get_features(\"car.c45-names\")\n",
    "print(feat_names)"
   ]
  },
  {
   "cell_type": "code",
   "execution_count": 5,
   "metadata": {},
   "outputs": [],
   "source": [
    "# Create a function to open attributes file\n",
    "# Return list of attribute values, along with attrib name\n",
    "\n",
    "def get_attribs_from_file(filename):\n",
    "    attribs = []\n",
    "    fin = open(filename,\"r\")\n",
    "    \n",
    "    for line in fin:\n",
    "        words = line.strip().split()\n",
    "        attribs.append(words[1:])\n",
    "        \n",
    "    return attribs"
   ]
  },
  {
   "cell_type": "code",
   "execution_count": 49,
   "metadata": {},
   "outputs": [
    {
     "name": "stdout",
     "output_type": "stream",
     "text": [
      "[['vhigh', 'high', 'med', 'low'], ['vhigh', 'high', 'med', 'low'], ['2', '3', '4', '5', 'more'], ['2', '4', 'more'], ['small', 'med', 'big'], ['low', 'med', 'high'], ['unacc', 'acc', 'good', 'vgood']]\n"
     ]
    }
   ],
   "source": [
    "# Print attrib info\n",
    "car_attribs = get_attribs_from_file(\"car.c45-names\")\n",
    "print(car_attribs)"
   ]
  },
  {
   "cell_type": "code",
   "execution_count": 7,
   "metadata": {},
   "outputs": [
    {
     "name": "stdout",
     "output_type": "stream",
     "text": [
      "1141\n",
      "587\n",
      "['vhigh', 'vhigh', '2', '2', 'small', 'med', 'unacc']\n"
     ]
    }
   ],
   "source": [
    "cutoff =  math.ceil(len(car_data) * .66) #2/3 | 1/3 split\n",
    "training_set = car_data[:cutoff] #2/3 for training\n",
    "test_set = car_data[cutoff:] #1/3 for testing\n",
    "\n",
    "print(len(training_set))\n",
    "print(len(test_set))\n",
    "print(training_set[1])"
   ]
  },
  {
   "cell_type": "code",
   "execution_count": 8,
   "metadata": {},
   "outputs": [
    {
     "name": "stdout",
     "output_type": "stream",
     "text": [
      "['vhigh', 'vhigh', '2', '2', 'small']\n",
      "['buying', 'maint', 'doors', 'persons', 'lug_boot', 'safety']\n",
      "unacc\n"
     ]
    }
   ],
   "source": [
    "#break up training instances into features (X) and label (Y)\n",
    "X_train = [training_set[i][:len(training_set[i])-2] for i in range(len(training_set))]\n",
    "Y_train = [(training_set[i][len(training_set[i])-1]) for i in range(len(training_set))]\n",
    "print(X_train[0])\n",
    "print(feat_names)\n",
    "print(Y_train[0])"
   ]
  },
  {
   "cell_type": "code",
   "execution_count": 9,
   "metadata": {},
   "outputs": [
    {
     "name": "stdout",
     "output_type": "stream",
     "text": [
      "['med', 'med', '4', '2', 'big']\n",
      "['maint', 'doors', 'persons', 'lug_boot', 'safety']\n",
      "unacc\n"
     ]
    }
   ],
   "source": [
    "X_test = [test_set[i][:len(test_set[i])-2] for i in range(len(test_set))]\n",
    "Y_test = [(training_set[i][len(training_set[i])-1]) for i in range(len(training_set))]\n",
    "print(X_test[0])\n",
    "print(feat_names[1:])\n",
    "print(Y_test[0])"
   ]
  },
  {
   "cell_type": "code",
   "execution_count": 53,
   "metadata": {},
   "outputs": [],
   "source": [
    "def get_entropy(instances, class1, class2, class3, class4):\n",
    "    count1 = 0\n",
    "    count2 = 0\n",
    "    count3 = 0\n",
    "    count4 = 0\n",
    "    # HINT: Get counts for both classes\n",
    "    for x in instances:\n",
    "        # print(x[len(x)-1])  \n",
    "        if(x[len(x)-1] == class1):\n",
    "            count1 += 1\n",
    "        elif(x[len(x)-1] == class2): \n",
    "            count2 += 1\n",
    "        elif(x[len(x)-1] == class3):\n",
    "            count3 += 1\n",
    "        elif(x[len(x)-1] == class4):\n",
    "            count4 += 1\n",
    "    \n",
    "    # HINT: Get class count for both classes\n",
    "    ent1 = 0\n",
    "    ent2 = 0\n",
    "    ent3 = 0\n",
    "    ent4 = 0\n",
    "    total = len(instances)\n",
    "    if(total != 0):\n",
    "            ent1 = count1/total\n",
    "            ent2 = count2/total\n",
    "            ent3 = count3/total\n",
    "            ent4 = count4/total    \n",
    "    # HINT: Be careful! Remember that log(0) is undefined (regardless of the log's base)\n",
    "    if ent1 == 0 or ent2 == 0 or ent3 == 0 or ent4 == 0:\n",
    "        ent = 0\n",
    "    else:\n",
    "        ent = - ent1 * math.log2(ent1) - ent2 * math.log2(ent2) - ent3 * math.log2(ent3) - ent4 * math.log2(ent4)\n",
    "    return ent"
   ]
  },
  {
   "cell_type": "code",
   "execution_count": 20,
   "metadata": {},
   "outputs": [
    {
     "name": "stdout",
     "output_type": "stream",
     "text": [
      "0.5843270868824532 0.19591141396933562 0.11754684838160136 0.10221465076660988\n",
      "1.6130579300605077\n"
     ]
    }
   ],
   "source": [
    "all_entropy = get_entropy(test_set,'unacc','acc','good','vgood')\n",
    "print(all_entropy)"
   ]
  },
  {
   "cell_type": "code",
   "execution_count": 67,
   "metadata": {},
   "outputs": [],
   "source": [
    "def get_cond_entropy(instances, feat_index, feat_vals, class1, class2, class3,class4):\n",
    "    num_inst = len(instances)\n",
    "    total_entropy = 0.0\n",
    "    # HINT: Iterate over all feat_vals (i.e., all values the current feature--feat_index--can take on).\n",
    "    for feat_val in feat_vals:\n",
    "        subset = []\n",
    "        for instance in instances:\n",
    "            if instance[feat_index] == feat_val:\n",
    "                subset.append(instance)\n",
    "\n",
    "    # HINT: Calculate probability of attribute taking on this value.\n",
    "    prob_feat = len(subset) / num_inst\n",
    "    \n",
    "    subset_entropy = get_entropy(subset, class1, class2,class3,class4)\n",
    "\n",
    "    if subset_entropy is not None:\n",
    "        calc = prob_feat * subset_entropy\n",
    "        total_entropy += calc\n",
    "\n",
    "    return total_entropy\n"
   ]
  },
  {
   "cell_type": "code",
   "execution_count": 56,
   "metadata": {},
   "outputs": [
    {
     "name": "stdout",
     "output_type": "stream",
     "text": [
      "this e:  1.1561498418486527\n"
     ]
    }
   ],
   "source": [
    "this_e = get_cond_entropy(test_set, 0, ['vhigh', 'high', 'med', 'low'], 'unacc','acc','good','vgood')\n",
    "print(\"this e: \", this_e)"
   ]
  },
  {
   "cell_type": "code",
   "execution_count": 65,
   "metadata": {},
   "outputs": [],
   "source": [
    "def get_info_gain(instances, feat_index, feat_vals, class1, class2, class3, class4):\n",
    "   # HINT: you should be able to just call your entropy and conditional entropy\n",
    "    #         functions you've already coded.    info_gain = 0\n",
    "    entropy = get_entropy(instances, 'unacc', 'acc', 'good', 'vgood')\n",
    "    \n",
    "    cond_entropy = get_cond_entropy(instances, feat_index, feat_vals, 'unacc', 'acc', 'good', 'vgood')\n",
    "    \n",
    "    if entropy is not None:\n",
    "        info_gain = entropy - cond_entropy\n",
    "    \n",
    "    return info_gain\n"
   ]
  },
  {
   "cell_type": "code",
   "execution_count": 68,
   "metadata": {},
   "outputs": [
    {
     "name": "stdout",
     "output_type": "stream",
     "text": [
      "c1,c2,c3,c4:  unacc acc good vgood\n",
      "0\n",
      "1\n",
      "2\n",
      "3\n"
     ]
    },
    {
     "ename": "IndexError",
     "evalue": "list index out of range",
     "output_type": "error",
     "traceback": [
      "\u001b[1;31m---------------------------------------------------------------------------\u001b[0m",
      "\u001b[1;31mIndexError\u001b[0m                                Traceback (most recent call last)",
      "\u001b[1;32mc:\\Users\\tj6568nv\\OneDrive - MNSCU\\Documents\\MLProject\\project.ipynb Cell 15\u001b[0m line \u001b[0;36m7\n\u001b[0;32m      <a href='vscode-notebook-cell:/c%3A/Users/tj6568nv/OneDrive%20-%20MNSCU/Documents/MLProject/project.ipynb#X14sZmlsZQ%3D%3D?line=4'>5</a>\u001b[0m \u001b[39mfor\u001b[39;00m i \u001b[39min\u001b[39;00m \u001b[39mrange\u001b[39m(\u001b[39mlen\u001b[39m(car_attribs)\u001b[39m-\u001b[39m\u001b[39m1\u001b[39m):\n\u001b[0;32m      <a href='vscode-notebook-cell:/c%3A/Users/tj6568nv/OneDrive%20-%20MNSCU/Documents/MLProject/project.ipynb#X14sZmlsZQ%3D%3D?line=5'>6</a>\u001b[0m     \u001b[39mprint\u001b[39m(i)\n\u001b[1;32m----> <a href='vscode-notebook-cell:/c%3A/Users/tj6568nv/OneDrive%20-%20MNSCU/Documents/MLProject/project.ipynb#X14sZmlsZQ%3D%3D?line=6'>7</a>\u001b[0m     all_IGs\u001b[39m.\u001b[39mappend(get_info_gain(car_attribs, i, car_attribs[i],\u001b[39m'\u001b[39;49m\u001b[39munacc\u001b[39;49m\u001b[39m'\u001b[39;49m, \u001b[39m'\u001b[39;49m\u001b[39macc\u001b[39;49m\u001b[39m'\u001b[39;49m, \u001b[39m'\u001b[39;49m\u001b[39mgood\u001b[39;49m\u001b[39m'\u001b[39;49m, \u001b[39m'\u001b[39;49m\u001b[39mvgood\u001b[39;49m\u001b[39m'\u001b[39;49m ))\n",
      "\u001b[1;32mc:\\Users\\tj6568nv\\OneDrive - MNSCU\\Documents\\MLProject\\project.ipynb Cell 15\u001b[0m line \u001b[0;36m6\n\u001b[0;32m      <a href='vscode-notebook-cell:/c%3A/Users/tj6568nv/OneDrive%20-%20MNSCU/Documents/MLProject/project.ipynb#X14sZmlsZQ%3D%3D?line=0'>1</a>\u001b[0m \u001b[39mdef\u001b[39;00m \u001b[39mget_info_gain\u001b[39m(instances, feat_index, feat_vals, class1, class2, class3, class4):\n\u001b[0;32m      <a href='vscode-notebook-cell:/c%3A/Users/tj6568nv/OneDrive%20-%20MNSCU/Documents/MLProject/project.ipynb#X14sZmlsZQ%3D%3D?line=1'>2</a>\u001b[0m    \u001b[39m# HINT: you should be able to just call your entropy and conditional entropy\u001b[39;00m\n\u001b[0;32m      <a href='vscode-notebook-cell:/c%3A/Users/tj6568nv/OneDrive%20-%20MNSCU/Documents/MLProject/project.ipynb#X14sZmlsZQ%3D%3D?line=2'>3</a>\u001b[0m     \u001b[39m#         functions you've already coded.    info_gain = 0\u001b[39;00m\n\u001b[0;32m      <a href='vscode-notebook-cell:/c%3A/Users/tj6568nv/OneDrive%20-%20MNSCU/Documents/MLProject/project.ipynb#X14sZmlsZQ%3D%3D?line=3'>4</a>\u001b[0m     entropy \u001b[39m=\u001b[39m get_entropy(instances, \u001b[39m'\u001b[39m\u001b[39munacc\u001b[39m\u001b[39m'\u001b[39m, \u001b[39m'\u001b[39m\u001b[39macc\u001b[39m\u001b[39m'\u001b[39m, \u001b[39m'\u001b[39m\u001b[39mgood\u001b[39m\u001b[39m'\u001b[39m, \u001b[39m'\u001b[39m\u001b[39mvgood\u001b[39m\u001b[39m'\u001b[39m)\n\u001b[1;32m----> <a href='vscode-notebook-cell:/c%3A/Users/tj6568nv/OneDrive%20-%20MNSCU/Documents/MLProject/project.ipynb#X14sZmlsZQ%3D%3D?line=5'>6</a>\u001b[0m     cond_entropy \u001b[39m=\u001b[39m get_cond_entropy(instances, feat_index, feat_vals, \u001b[39m'\u001b[39;49m\u001b[39munacc\u001b[39;49m\u001b[39m'\u001b[39;49m, \u001b[39m'\u001b[39;49m\u001b[39macc\u001b[39;49m\u001b[39m'\u001b[39;49m, \u001b[39m'\u001b[39;49m\u001b[39mgood\u001b[39;49m\u001b[39m'\u001b[39;49m, \u001b[39m'\u001b[39;49m\u001b[39mvgood\u001b[39;49m\u001b[39m'\u001b[39;49m)\n\u001b[0;32m      <a href='vscode-notebook-cell:/c%3A/Users/tj6568nv/OneDrive%20-%20MNSCU/Documents/MLProject/project.ipynb#X14sZmlsZQ%3D%3D?line=7'>8</a>\u001b[0m     \u001b[39mif\u001b[39;00m entropy \u001b[39mis\u001b[39;00m \u001b[39mnot\u001b[39;00m \u001b[39mNone\u001b[39;00m:\n\u001b[0;32m      <a href='vscode-notebook-cell:/c%3A/Users/tj6568nv/OneDrive%20-%20MNSCU/Documents/MLProject/project.ipynb#X14sZmlsZQ%3D%3D?line=8'>9</a>\u001b[0m         info_gain \u001b[39m=\u001b[39m entropy \u001b[39m-\u001b[39m cond_entropy\n",
      "\u001b[1;32mc:\\Users\\tj6568nv\\OneDrive - MNSCU\\Documents\\MLProject\\project.ipynb Cell 15\u001b[0m line \u001b[0;36m8\n\u001b[0;32m      <a href='vscode-notebook-cell:/c%3A/Users/tj6568nv/OneDrive%20-%20MNSCU/Documents/MLProject/project.ipynb#X14sZmlsZQ%3D%3D?line=5'>6</a>\u001b[0m     subset \u001b[39m=\u001b[39m []\n\u001b[0;32m      <a href='vscode-notebook-cell:/c%3A/Users/tj6568nv/OneDrive%20-%20MNSCU/Documents/MLProject/project.ipynb#X14sZmlsZQ%3D%3D?line=6'>7</a>\u001b[0m     \u001b[39mfor\u001b[39;00m instance \u001b[39min\u001b[39;00m instances:\n\u001b[1;32m----> <a href='vscode-notebook-cell:/c%3A/Users/tj6568nv/OneDrive%20-%20MNSCU/Documents/MLProject/project.ipynb#X14sZmlsZQ%3D%3D?line=7'>8</a>\u001b[0m         \u001b[39mif\u001b[39;00m instance[feat_index] \u001b[39m==\u001b[39m feat_val:\n\u001b[0;32m      <a href='vscode-notebook-cell:/c%3A/Users/tj6568nv/OneDrive%20-%20MNSCU/Documents/MLProject/project.ipynb#X14sZmlsZQ%3D%3D?line=8'>9</a>\u001b[0m             subset\u001b[39m.\u001b[39mappend(instance)\n\u001b[0;32m     <a href='vscode-notebook-cell:/c%3A/Users/tj6568nv/OneDrive%20-%20MNSCU/Documents/MLProject/project.ipynb#X14sZmlsZQ%3D%3D?line=10'>11</a>\u001b[0m \u001b[39m# HINT: Calculate probability of attribute taking on this value.\u001b[39;00m\n",
      "\u001b[1;31mIndexError\u001b[0m: list index out of range"
     ]
    }
   ],
   "source": [
    "all_IGs = []\n",
    "c1,c2,c3,c4 = car_attribs[len(car_attribs)-1]\n",
    "print(\"c1,c2,c3,c4: \", c1,c2,c3,c4)  # Two class values\n",
    "\n",
    "for i in range(len(car_attribs)-1):\n",
    "    print(i)\n",
    "    all_IGs.append(get_info_gain(car_attribs, i, car_attribs[i],'unacc', 'acc', 'good', 'vgood' ))"
   ]
  }
 ],
 "metadata": {
  "kernelspec": {
   "display_name": "Python 3 (ipykernel)",
   "language": "python",
   "name": "python3"
  },
  "language_info": {
   "codemirror_mode": {
    "name": "ipython",
    "version": 3
   },
   "file_extension": ".py",
   "mimetype": "text/x-python",
   "name": "python",
   "nbconvert_exporter": "python",
   "pygments_lexer": "ipython3",
   "version": "3.11.6"
  }
 },
 "nbformat": 4,
 "nbformat_minor": 2
}
