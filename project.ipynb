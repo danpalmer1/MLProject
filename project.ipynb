{
 "cells": [
  {
   "cell_type": "code",
   "execution_count": 1,
   "metadata": {},
   "outputs": [],
   "source": [
    "import math\n",
    "\n",
    "def get_data_from_file(filename):\n",
    "    instances = []\n",
    "    fin = open(filename, \"r\")\n",
    "\n",
    "    for line in fin:\n",
    "        instances.append(line.strip().split(\",\"))\n",
    "\n",
    "    fin.close()\n",
    "\n",
    "    return instances"
   ]
  },
  {
   "cell_type": "code",
   "execution_count": 2,
   "metadata": {},
   "outputs": [
    {
     "name": "stdout",
     "output_type": "stream",
     "text": [
      "[['vhigh', 'vhigh', '2', '2', 'small', 'low', 'unacc'], ['vhigh', 'vhigh', '2', '2', 'small', 'med', 'unacc'], ['vhigh', 'vhigh', '2', '2', 'small', 'high', 'unacc'], ['vhigh', 'vhigh', '2', '2', 'med', 'low', 'unacc'], ['vhigh', 'vhigh', '2', '2', 'med', 'med', 'unacc'], ['vhigh', 'vhigh', '2', '2', 'med', 'high', 'unacc'], ['vhigh', 'vhigh', '2', '2', 'big', 'low', 'unacc'], ['vhigh', 'vhigh', '2', '2', 'big', 'med', 'unacc'], ['vhigh', 'vhigh', '2', '2', 'big', 'high', 'unacc'], ['vhigh', 'vhigh', '2', '4', 'small', 'low', 'unacc']] \n",
      "\n"
     ]
    }
   ],
   "source": [
    "car_data = get_data_from_file(\"car.data\")\n",
    "print(car_data[:10], '\\n')"
   ]
  },
  {
   "cell_type": "code",
   "execution_count": 3,
   "metadata": {},
   "outputs": [],
   "source": [
    "#method to get feature names from attributes file\n",
    "def get_features(filename):\n",
    "    feat_list = []\n",
    "    fin = open(filename, \"r\")\n",
    "\n",
    "    for line in fin:\n",
    "        attrib = line.strip().split(':')\n",
    "        feat_list.append(attrib[0])\n",
    "\n",
    "    return feat_list"
   ]
  },
  {
   "cell_type": "code",
   "execution_count": 4,
   "metadata": {},
   "outputs": [
    {
     "name": "stdout",
     "output_type": "stream",
     "text": [
      "['buying', 'maint', 'doors', 'persons', 'lug_boot', 'safety', 'label']\n"
     ]
    }
   ],
   "source": [
    "feat_names = get_features(\"car.c45-names\")\n",
    "print(feat_names)"
   ]
  },
  {
   "cell_type": "code",
   "execution_count": 5,
   "metadata": {},
   "outputs": [],
   "source": [
    "# Create a function to open attributes file\n",
    "# Return list of attribute values, along with attrib name\n",
    "\n",
    "def get_attribs_from_file(filename):\n",
    "    attribs = []\n",
    "    fin = open(filename,\"r\")\n",
    "    \n",
    "    for line in fin:\n",
    "        words = line.strip().split()\n",
    "        attribs.append(words[1:])\n",
    "        \n",
    "    return attribs"
   ]
  },
  {
   "cell_type": "code",
   "execution_count": 6,
   "metadata": {},
   "outputs": [
    {
     "name": "stdout",
     "output_type": "stream",
     "text": [
      "[['vhigh', 'high', 'med', 'low'], ['vhigh', 'high', 'med', 'low'], ['2', '3', '4', '5', 'more'], ['2', '4', 'more'], ['small', 'med', 'big'], ['low', 'med', 'high'], ['unacc', 'acc', 'good', 'vgood']]\n"
     ]
    }
   ],
   "source": [
    "# Print attrib info\n",
    "car_attribs = get_attribs_from_file(\"car.c45-names\")\n",
    "print(car_attribs)"
   ]
  },
  {
   "cell_type": "code",
   "execution_count": 7,
   "metadata": {},
   "outputs": [
    {
     "name": "stdout",
     "output_type": "stream",
     "text": [
      "1141\n",
      "587\n",
      "['vhigh', 'vhigh', '2', '2', 'small', 'med', 'unacc']\n"
     ]
    }
   ],
   "source": [
    "cutoff =  math.ceil(len(car_data) * .66) #2/3 | 1/3 split\n",
    "training_set = car_data[:cutoff] #2/3 for training\n",
    "test_set = car_data[cutoff:] #1/3 for testing\n",
    "\n",
    "print(len(training_set))\n",
    "print(len(test_set))\n",
    "print(training_set[1])"
   ]
  },
  {
   "cell_type": "code",
   "execution_count": 8,
   "metadata": {},
   "outputs": [
    {
     "name": "stdout",
     "output_type": "stream",
     "text": [
      "['vhigh', 'vhigh', '2', '2', 'small']\n",
      "['buying', 'maint', 'doors', 'persons', 'lug_boot', 'safety', 'label']\n",
      "unacc\n"
     ]
    }
   ],
   "source": [
    "#break up training instances into features (X) and label (Y)\n",
    "X_train = [training_set[i][:len(training_set[i])-2] for i in range(len(training_set))]\n",
    "Y_train = [(training_set[i][len(training_set[i])-1]) for i in range(len(training_set))]\n",
    "print(X_train[0])\n",
    "print(feat_names)\n",
    "print(Y_train[0])"
   ]
  },
  {
   "cell_type": "code",
   "execution_count": 9,
   "metadata": {},
   "outputs": [
    {
     "name": "stdout",
     "output_type": "stream",
     "text": [
      "['med', 'med', '4', '2', 'big']\n",
      "['maint', 'doors', 'persons', 'lug_boot', 'safety', 'label']\n",
      "unacc\n"
     ]
    }
   ],
   "source": [
    "X_test = [test_set[i][:len(test_set[i])-2] for i in range(len(test_set))]\n",
    "Y_test = [(training_set[i][len(training_set[i])-1]) for i in range(len(training_set))]\n",
    "print(X_test[0])\n",
    "print(feat_names[1:])\n",
    "print(Y_test[0])"
   ]
  },
  {
   "cell_type": "code",
   "execution_count": 10,
   "metadata": {},
   "outputs": [],
   "source": [
    "def get_entropy(instances, class1, class2, class3, class4):\n",
    "    count1 = 0\n",
    "    count2 = 0\n",
    "    count3 = 0\n",
    "    count4 = 0\n",
    "    # HINT: Get counts for both classes\n",
    "    for x in instances:\n",
    "        # print(x[len(x)-1])  \n",
    "        if(x[len(x)-1] == class1):\n",
    "            count1 += 1\n",
    "        elif(x[len(x)-1] == class2): \n",
    "            count2 += 1\n",
    "        elif(x[len(x)-1] == class3):\n",
    "            count3 += 1\n",
    "        elif(x[len(x)-1] == class4):\n",
    "            count4 += 1\n",
    "    \n",
    "    # HINT: Get class count for both classes\n",
    "    ent1 = 0\n",
    "    ent2 = 0\n",
    "    ent3 = 0\n",
    "    ent4 = 0\n",
    "    total = len(instances)\n",
    "    if(total != 0):\n",
    "            ent1 = count1/total\n",
    "            ent2 = count2/total\n",
    "            ent3 = count3/total\n",
    "            ent4 = count4/total    \n",
    "    # HINT: Be careful! Remember that log(0) is undefined (regardless of the log's base)\n",
    "    if ent1 == 0 or ent2 == 0 or ent3 == 0 or ent4 == 0:\n",
    "        ent = 0\n",
    "    else:\n",
    "        ent = - ent1 * math.log2(ent1) - ent2 * math.log2(ent2) - ent3 * math.log2(ent3) - ent4 * math.log2(ent4)\n",
    "    return ent"
   ]
  },
  {
   "cell_type": "code",
   "execution_count": 11,
   "metadata": {},
   "outputs": [
    {
     "name": "stdout",
     "output_type": "stream",
     "text": [
      "1.6130579300605077\n"
     ]
    }
   ],
   "source": [
    "all_entropy = get_entropy(test_set,'unacc','acc','good','vgood')\n",
    "print(all_entropy)"
   ]
  },
  {
   "cell_type": "code",
   "execution_count": 12,
   "metadata": {},
   "outputs": [],
   "source": [
    "def get_cond_entropy(instances, feat_index, feat_vals, class1, class2, class3, class4):\n",
    "    num_inst = len(instances)\n",
    "    total_entropy = 0.0\n",
    "    # HINT: Iterate over all feat_vals (i.e., all values the current feature--feat_index--can take on).\n",
    "    for feat_val in feat_vals:\n",
    "        subset = []\n",
    "        for instance in instances:\n",
    "            if instance[feat_index] == feat_val:\n",
    "                subset.append(instance)\n",
    "\n",
    "    # HINT: Calculate probability of attribute taking on this value.\n",
    "    prob_feat = len(subset) / num_inst\n",
    "    \n",
    "    subset_entropy = get_entropy(subset, class1, class2,class3,class4)\n",
    "\n",
    "    if subset_entropy is not None:\n",
    "        calc = prob_feat * subset_entropy\n",
    "        total_entropy += calc\n",
    "\n",
    "    return total_entropy\n"
   ]
  },
  {
   "cell_type": "code",
   "execution_count": 13,
   "metadata": {},
   "outputs": [
    {
     "name": "stdout",
     "output_type": "stream",
     "text": [
      "0\n",
      "1\n",
      "2\n",
      "3\n",
      "4\n",
      "5\n"
     ]
    }
   ],
   "source": [
    "for i in range(len(car_attribs)-1):\n",
    "    print(i)\n",
    "    get_cond_entropy(test_set, i, car_attribs[i],'unacc', 'acc', 'good', 'vgood')"
   ]
  },
  {
   "cell_type": "code",
   "execution_count": 14,
   "metadata": {},
   "outputs": [],
   "source": [
    "def get_info_gain(instances, feat_index, feat_vals, class1, class2, class3, class4):\n",
    "   # HINT: you should be able to just call your entropy and conditional entropy\n",
    "    #         functions you've already coded.    info_gain = 0\n",
    "    entropy = get_entropy(instances, 'unacc', 'acc', 'good', 'vgood')\n",
    "    cond_entropy = get_cond_entropy(instances, feat_index,feat_vals,class1,class2,class3,class4)\n",
    "    \n",
    "    if entropy is not None:\n",
    "        info_gain = entropy - cond_entropy\n",
    "    \n",
    "    return info_gain\n"
   ]
  },
  {
   "cell_type": "code",
   "execution_count": 15,
   "metadata": {},
   "outputs": [],
   "source": [
    "def test(instances, feat_index, feat_vals):\n",
    "    for feat_val in feat_vals:\n",
    "        subset = []\n",
    "        for instance in instances:\n",
    "            if instance[feat_index] == feat_val:\n",
    "                subset.append(instance)\n"
   ]
  },
  {
   "cell_type": "code",
   "execution_count": 16,
   "metadata": {},
   "outputs": [],
   "source": [
    "for i in range(len(car_attribs)-1):\n",
    "    test(test_set, i, car_attribs[i])"
   ]
  },
  {
   "cell_type": "code",
   "execution_count": 17,
   "metadata": {},
   "outputs": [
    {
     "name": "stdout",
     "output_type": "stream",
     "text": [
      "c1,c2,c3,c4:  unacc acc good vgood\n"
     ]
    }
   ],
   "source": [
    "all_IGs = []\n",
    "c1,c2,c3,c4 = car_attribs[len(car_attribs)-1]\n",
    "print(\"c1,c2,c3,c4: \", c1,c2,c3,c4)  # Two class values\n",
    "\n",
    "for i in range(len(car_attribs)-1):\n",
    "    all_IGs.append(get_info_gain(test_set, i, car_attribs[i],c1,c2,c3,c4))"
   ]
  },
  {
   "cell_type": "code",
   "execution_count": 18,
   "metadata": {},
   "outputs": [
    {
     "name": "stdout",
     "output_type": "stream",
     "text": [
      "[0.456908088211855, 1.0168032223410894, 1.6130579300605077, 0.9745339553516572, 1.045681815673153, 0.9714480258086349]\n"
     ]
    }
   ],
   "source": [
    "print(all_IGs)"
   ]
  },
  {
   "cell_type": "code",
   "execution_count": 17,
   "metadata": {},
   "outputs": [
    {
     "name": "stdout",
     "output_type": "stream",
     "text": [
      "[0, 0, 2, 2, 0, 1]\n",
      "unacc\n"
     ]
    }
   ],
   "source": [
    "def get_inst_features_from_file(filename):\n",
    "    instances = []\n",
    "    fin = open(filename, \"r\")\n",
    "\n",
    "    for line in fin:\n",
    "        inst = []\n",
    "        data = line.strip().split(\",\")\n",
    "        if data[0] == \"vhigh\":\n",
    "            inst.append(0)\n",
    "        elif data[0] == \"high\":\n",
    "            inst.append(1)\n",
    "        elif data[0] == \"med\":\n",
    "            inst.append(2)\n",
    "        elif data[0] == \"low\":\n",
    "            inst.append(3)\n",
    "        if data[1] == \"vhigh\":\n",
    "            inst.append(0)\n",
    "        elif data[1] == \"high\":\n",
    "            inst.append(1)\n",
    "        elif data[1] == \"med\":\n",
    "            inst.append(2)\n",
    "        elif data[1] == \"low\":\n",
    "            inst.append(3)\n",
    "        if data[2] == \"5more\":\n",
    "            inst.append(6)\n",
    "        else:\n",
    "            inst.append(int(data[2]))\n",
    "        if data[3] == \"more\":\n",
    "            inst.append(5)\n",
    "        else:\n",
    "            inst.append(int(data[3]))\n",
    "        if data[4] == \"small\":\n",
    "            inst.append(0)\n",
    "        elif data[4] == \"med\":\n",
    "            inst.append(1)\n",
    "        elif data[4] == \"big\":\n",
    "            inst.append(2)\n",
    "        if data[5] == \"low\":\n",
    "            inst.append(0)\n",
    "        elif data[5] == \"med\":\n",
    "            inst.append(1)\n",
    "        elif data[5] == \"high\":\n",
    "            inst.append(2)\n",
    "        instances.append(inst)\n",
    "\n",
    "    fin.close()\n",
    "\n",
    "    return instances\n",
    "\n",
    "def get_inst_labels_from_file(filename):\n",
    "    labels = []\n",
    "    fin = open(filename, \"r\")\n",
    "\n",
    "    for line in fin:\n",
    "        data = line.strip().split(\",\")\n",
    "        labels.append(data[6])\n",
    "\n",
    "    fin.close()\n",
    "\n",
    "    return labels\n",
    "\n",
    "inst = get_inst_features_from_file(\"car.data\")\n",
    "label = get_inst_labels_from_file(\"car.data\")\n",
    "print(inst[1])\n",
    "print(label[1])"
   ]
  },
  {
   "cell_type": "code",
   "execution_count": 26,
   "metadata": {},
   "outputs": [
    {
     "data": {
      "text/plain": [
       "[Text(0.2692307692307692, 0.9166666666666666, 'x[5] <= 0.5\\nentropy = 1.206\\nsamples = 1728\\nvalue = [384, 69, 1210, 65]'),\n",
       " Text(0.19230769230769232, 0.75, 'entropy = 0.0\\nsamples = 576\\nvalue = [0, 0, 576, 0]'),\n",
       " Text(0.34615384615384615, 0.75, 'x[3] <= 3.0\\nentropy = 1.48\\nsamples = 1152\\nvalue = [384, 69, 634, 65]'),\n",
       " Text(0.2692307692307692, 0.5833333333333334, 'entropy = 0.0\\nsamples = 384\\nvalue = [0, 0, 384, 0]'),\n",
       " Text(0.4230769230769231, 0.5833333333333334, 'x[0] <= 1.5\\nentropy = 1.641\\nsamples = 768\\nvalue = [384, 69, 250, 65]'),\n",
       " Text(0.15384615384615385, 0.4166666666666667, 'x[1] <= 0.5\\nentropy = 0.997\\nsamples = 384\\nvalue = [180, 0, 204, 0]'),\n",
       " Text(0.07692307692307693, 0.25, 'entropy = 0.0\\nsamples = 96\\nvalue = [0, 0, 96, 0]'),\n",
       " Text(0.23076923076923078, 0.25, 'x[4] <= 0.5\\nentropy = 0.954\\nsamples = 288\\nvalue = [180, 0, 108, 0]'),\n",
       " Text(0.15384615384615385, 0.08333333333333333, 'entropy = 0.946\\nsamples = 96\\nvalue = [35, 0, 61, 0]'),\n",
       " Text(0.3076923076923077, 0.08333333333333333, 'entropy = 0.803\\nsamples = 192\\nvalue = [145, 0, 47, 0]'),\n",
       " Text(0.6923076923076923, 0.4166666666666667, 'x[1] <= 1.5\\nentropy = 1.73\\nsamples = 384\\nvalue = [204, 69, 46, 65]'),\n",
       " Text(0.5384615384615384, 0.25, 'x[5] <= 1.5\\nentropy = 1.053\\nsamples = 192\\nvalue = [141, 0, 38, 13]'),\n",
       " Text(0.46153846153846156, 0.08333333333333333, 'entropy = 0.938\\nsamples = 96\\nvalue = [62, 0, 34, 0]'),\n",
       " Text(0.6153846153846154, 0.08333333333333333, 'entropy = 0.813\\nsamples = 96\\nvalue = [79, 0, 4, 13]'),\n",
       " Text(0.8461538461538461, 0.25, 'x[5] <= 1.5\\nentropy = 1.76\\nsamples = 192\\nvalue = [63, 69, 8, 52]'),\n",
       " Text(0.7692307692307693, 0.08333333333333333, 'entropy = 1.192\\nsamples = 96\\nvalue = [53, 39, 4, 0]'),\n",
       " Text(0.9230769230769231, 0.08333333333333333, 'entropy = 1.534\\nsamples = 96\\nvalue = [10, 30, 4, 52]')]"
      ]
     },
     "execution_count": 26,
     "metadata": {},
     "output_type": "execute_result"
    },
    {
     "data": {
      "image/png": "[encoded data removed]",
      "text/plain": [
       "<Figure size 640x480 with 1 Axes>"
      ]
     },
     "metadata": {},
     "output_type": "display_data"
    }
   ],
   "source": [
    "import sklearn\n",
    "import matplotlib\n",
    "from sklearn import tree\n",
    "\n",
    "clf = tree.DecisionTreeClassifier(criterion='entropy', max_depth=5)\n",
    "clf = clf.fit(inst, label)\n",
    "tree.plot_tree(clf)\n",
    "\n",
    "# iris = load_iris()\n",
    "# print(iris.data[2])\n",
    "# print(iris.target[2])"
   ]
  }
 ],
 "metadata": {
  "kernelspec": {
   "display_name": "Python 3 (ipykernel)",
   "language": "python",
   "name": "python3"
  },
  "language_info": {
   "codemirror_mode": {
    "name": "ipython",
    "version": 3
   },
   "file_extension": ".py",
   "mimetype": "text/x-python",
   "name": "python",
   "nbconvert_exporter": "python",
   "pygments_lexer": "ipython3",
   "version": "3.11.0"
  }
 },
 "nbformat": 4,
 "nbformat_minor": 2
}
