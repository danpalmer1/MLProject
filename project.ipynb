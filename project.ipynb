{
 "cells": [
  {
   "cell_type": "code",
   "execution_count": 151,
   "metadata": {},
   "outputs": [],
   "source": [
    "import math\n",
    "import sklearn\n",
    "import matplotlib\n",
    "from sklearn import tree\n",
    "from sklearn import metrics\n",
    "from sklearn.linear_model import LogisticRegression"
   ]
  },
  {
   "cell_type": "code",
   "execution_count": 152,
   "metadata": {},
   "outputs": [],
   "source": [
    "#method to get feature names from attributes file\n",
    "def get_features(filename):\n",
    "    feat_list = []\n",
    "    fin = open(filename, \"r\")\n",
    "\n",
    "    for line in fin:\n",
    "        attrib = line.strip().split(':')\n",
    "        feat_list.append(attrib[0])\n",
    "\n",
    "    return feat_list"
   ]
  },
  {
   "cell_type": "code",
   "execution_count": 153,
   "metadata": {},
   "outputs": [
    {
     "name": "stdout",
     "output_type": "stream",
     "text": [
      "['buying', 'maint', 'doors', 'persons', 'lug_boot', 'safety', 'label']\n"
     ]
    }
   ],
   "source": [
    "feat_names = get_features(\"car.c45-names\")\n",
    "print(feat_names)"
   ]
  },
  {
   "cell_type": "code",
   "execution_count": 154,
   "metadata": {},
   "outputs": [
    {
     "name": "stdout",
     "output_type": "stream",
     "text": [
      "1141\n",
      "587\n",
      "[0, 0, 2, 2, 0, 1]\n"
     ]
    }
   ],
   "source": [
    "cutoff =  math.ceil(len(car_data) * .66) #2/3 | 1/3 split\n",
    "training_set = car_data[:cutoff] #2/3 for training\n",
    "test_set = car_data[cutoff:] #1/3 for testing\n",
    "\n",
    "print(len(training_set))\n",
    "print(len(test_set))\n",
    "print(training_set[1])"
   ]
  },
  {
   "cell_type": "code",
   "execution_count": 155,
   "metadata": {},
   "outputs": [
    {
     "name": "stdout",
     "output_type": "stream",
     "text": [
      "[0, 0, 2, 2]\n",
      "['buying', 'maint', 'doors', 'persons', 'lug_boot', 'safety', 'label']\n",
      "0\n"
     ]
    }
   ],
   "source": [
    "#break up training instances into features (X) and label (Y)\n",
    "X_train = [training_set[i][:len(training_set[i])-2] for i in range(len(training_set))]\n",
    "Y_train = [(training_set[i][len(training_set[i])-1]) for i in range(len(training_set))]\n",
    "print(X_train[0])\n",
    "print(feat_names)\n",
    "print(Y_train[0])"
   ]
  },
  {
   "cell_type": "code",
   "execution_count": 156,
   "metadata": {},
   "outputs": [
    {
     "name": "stdout",
     "output_type": "stream",
     "text": [
      "[2, 2, 4, 2]\n",
      "0\n"
     ]
    }
   ],
   "source": [
    "X_test = [test_set[i][:len(test_set[i])-2] for i in range(len(test_set))]\n",
    "Y_test = [(training_set[i][len(training_set[i])-1]) for i in range(len(training_set))]\n",
    "print(X_test[0])\n",
    "print(Y_test[0])"
   ]
  },
  {
   "cell_type": "code",
   "execution_count": 157,
   "metadata": {},
   "outputs": [
    {
     "name": "stdout",
     "output_type": "stream",
     "text": [
      "1728\n",
      "1728\n"
     ]
    }
   ],
   "source": [
    "def get_inst_features_from_file(filename):\n",
    "    instances = []\n",
    "    fin = open(filename, \"r\")\n",
    "\n",
    "    for line in fin:\n",
    "        inst = []\n",
    "        data = line.strip().split(\",\")\n",
    "        #buying\n",
    "        if data[0] == \"vhigh\":\n",
    "            inst.append(0)\n",
    "        elif data[0] == \"high\":\n",
    "            inst.append(1)\n",
    "        elif data[0] == \"med\":\n",
    "            inst.append(2)\n",
    "        elif data[0] == \"low\":\n",
    "            inst.append(3)\n",
    "        #maint\n",
    "        if data[1] == \"vhigh\":\n",
    "            inst.append(0)\n",
    "        elif data[1] == \"high\":\n",
    "            inst.append(1)\n",
    "        elif data[1] == \"med\":\n",
    "            inst.append(2)\n",
    "        elif data[1] == \"low\":\n",
    "            inst.append(3)\n",
    "        #doors\n",
    "        if data[2] == \"5more\":\n",
    "            inst.append(6)\n",
    "        else:\n",
    "            inst.append(int(data[2]))\n",
    "        #persons\n",
    "        if data[3] == \"more\":\n",
    "            inst.append(5)\n",
    "        else:\n",
    "            inst.append(int(data[3]))\n",
    "        #trunk (lug_boot)\n",
    "        if data[4] == \"small\":\n",
    "            inst.append(0)\n",
    "        elif data[4] == \"med\":\n",
    "            inst.append(1)\n",
    "        elif data[4] == \"big\":\n",
    "            inst.append(2)\n",
    "        #safety\n",
    "        if data[5] == \"low\":\n",
    "            inst.append(0)\n",
    "        elif data[5] == \"med\":\n",
    "            inst.append(1)\n",
    "        elif data[5] == \"high\":\n",
    "            inst.append(2)\n",
    "        instances.append(inst)\n",
    "\n",
    "    fin.close()\n",
    "\n",
    "    return instances\n",
    "\n",
    "def get_inst_labels_from_file(filename):\n",
    "    labels = []\n",
    "    fin = open(filename, \"r\")\n",
    "\n",
    "    for line in fin:\n",
    "        data = line.strip().split(\",\")\n",
    "        if data[6] == \"unacc\":\n",
    "            labels.append(0)\n",
    "        elif data[6] == \"acc\":\n",
    "            labels.append(1)\n",
    "        elif data[6] == \"good\":\n",
    "            labels.append(2)\n",
    "        elif data[6] == \"vgood\":\n",
    "            labels.append(3)\n",
    "\n",
    "    fin.close()\n",
    "\n",
    "    return labels\n",
    "\n",
    "inst = get_inst_features_from_file(\"car.data\")\n",
    "label = get_inst_labels_from_file(\"car.data\")\n",
    "print(len(inst))\n",
    "print(len(label))"
   ]
  },
  {
   "cell_type": "code",
   "execution_count": 158,
   "metadata": {},
   "outputs": [
    {
     "name": "stdout",
     "output_type": "stream",
     "text": [
      "0.9143518518518519\n"
     ]
    },
    {
     "data": {
      "text/plain": [
       "[Text(0.25, 0.9, 'x[3] <= 3.0\\nentropy = 1.336\\nsamples = 1296\\nvalue = [850, 312, 69, 65]'),\n",
       " Text(0.125, 0.7, 'entropy = 0.0\\nsamples = 432\\nvalue = [432, 0, 0, 0]'),\n",
       " Text(0.375, 0.7, 'x[5] <= 0.5\\nentropy = 1.609\\nsamples = 864\\nvalue = [418, 312, 69, 65]'),\n",
       " Text(0.25, 0.5, 'entropy = 0.0\\nsamples = 288\\nvalue = [288, 0, 0, 0]'),\n",
       " Text(0.5, 0.5, 'x[0] <= 1.5\\nentropy = 1.686\\nsamples = 576\\nvalue = [130, 312, 69, 65]'),\n",
       " Text(0.25, 0.3, 'x[1] <= 0.5\\nentropy = 0.989\\nsamples = 192\\nvalue = [84, 108, 0, 0]'),\n",
       " Text(0.125, 0.1, 'entropy = 0.0\\nsamples = 48\\nvalue = [48, 0, 0, 0]'),\n",
       " Text(0.375, 0.1, 'entropy = 0.811\\nsamples = 144\\nvalue = [36, 108, 0, 0]'),\n",
       " Text(0.75, 0.3, 'x[1] <= 1.5\\nentropy = 1.73\\nsamples = 384\\nvalue = [46, 204, 69, 65]'),\n",
       " Text(0.625, 0.1, 'entropy = 1.053\\nsamples = 192\\nvalue = [38, 141, 0, 13]'),\n",
       " Text(0.875, 0.1, 'entropy = 1.76\\nsamples = 192\\nvalue = [8, 63, 69, 52]')]"
      ]
     },
     "execution_count": 158,
     "metadata": {},
     "output_type": "execute_result"
    },
    {
     "data": {
      "image/png": "[encoded data removed]",
      "text/plain": [
       "<Figure size 640x480 with 1 Axes>"
      ]
     },
     "metadata": {},
     "output_type": "display_data"
    }
   ],
   "source": [
    "data = get_inst_features_from_file(\"car.data\")\n",
    "labels = get_inst_labels_from_file(\"car.data\")\n",
    "\n",
    "#chose to cutoff the backend of data for training since first several hundred instances are mostly labeled as 0\n",
    "cutoff =  math.ceil(len(data) * .25) #75% | 25% split\n",
    "training_set_x = data[cutoff:] #75% for training\n",
    "training_set_y = labels[cutoff:]\n",
    "test_set_x = data[:cutoff] #25% for testing\n",
    "test_set_y = labels[:cutoff]\n",
    "# print(training_set_x[0])\n",
    "# print(training_set_y)\n",
    "# print(test_set_x[0])\n",
    "# print(test_set_y)\n",
    "\n",
    "clf = tree.DecisionTreeClassifier(criterion='entropy', max_depth=8)\n",
    "clf = clf.fit(training_set_x, training_set_y)\n",
    "\n",
    "\n",
    "pred = clf.predict(test_set_x)\n",
    "print(metrics.accuracy_score(test_set_y, pred))\n",
    "\n",
    "clf = tree.DecisionTreeClassifier(criterion='entropy', max_depth=4)\n",
    "clf.fit(training_set_x, training_set_y)\n",
    "tree.plot_tree(clf)"
   ]
  },
  {
   "cell_type": "code",
   "execution_count": 159,
   "metadata": {},
   "outputs": [
    {
     "name": "stdout",
     "output_type": "stream",
     "text": [
      "[0, 0, 3, 4, 2, 1]\n",
      "[3, 0, 1, 0, 1, 0, 0, 0, 0, 3, 0, 0, 1, 0, 0, 0, 1, 2, 0, 0, 0, 0, 0, 2, 0, 1, 0, 0, 0, 1, 1, 3, 1, 1, 0, 1, 1, 0, 2, 1, 1, 0, 0, 1, 0, 1, 0, 0, 0, 0, 1, 0, 0, 0, 1, 0, 2, 0, 0, 0, 0, 0, 0, 0, 0, 0, 0, 1, 0, 0, 0, 0, 1, 1, 1, 2, 0, 0, 0, 1, 2, 1, 0, 0, 0, 3, 1, 2, 0, 1, 1, 2, 2, 2, 0, 0, 0, 0, 0, 0, 0, 2, 0, 0, 0, 0, 0, 1, 3, 1, 0, 1, 0, 0, 0, 0, 0, 0, 0, 1, 0, 0, 1, 0, 0, 1, 2, 0, 0, 0, 1, 0, 1, 0, 0, 0, 0, 3, 1, 0, 0, 0, 1, 1, 0, 1, 0, 0, 0, 0, 1, 0, 0, 0, 0, 0, 0, 1, 0, 0, 1, 0, 0, 0, 0, 1, 0, 0, 1, 0, 0, 2, 1, 1, 1, 0, 0, 0, 0, 0, 0, 0, 0, 0, 0, 0, 0, 1, 0, 0, 0, 0, 1, 0, 0, 0, 0, 0, 0, 1, 0, 0, 0, 0, 0, 1, 0, 0, 0, 0, 1, 0, 0, 2, 0, 0, 0, 0, 3, 0, 0, 0, 1, 0, 0, 0, 0, 0, 0, 0, 0, 1, 0, 0, 0, 0, 0, 1, 0, 0, 0, 0, 0, 0, 3, 0, 0, 0, 1, 0, 1, 0, 2, 0, 0, 0, 0, 0, 2, 0, 1, 2, 1, 0, 3, 0, 0, 0, 0, 0, 2, 1, 0, 1, 0, 0, 0, 1, 0, 0, 0, 0, 1, 0, 0, 0, 2, 0, 0, 0, 1, 0, 0, 0, 1, 0, 1, 0, 1, 0, 1, 0, 0, 1, 0, 1, 1, 0, 0, 0, 0, 3, 0, 0, 1, 0, 0, 0, 2, 0, 0, 0, 0, 0, 0, 0, 0, 0, 1, 0, 0, 0, 0, 0, 0, 0, 0, 3, 0, 1, 0, 0, 0, 0, 1, 0, 0, 0, 0, 0, 0, 0, 0, 0, 1, 0, 0, 0, 0, 0, 1, 0, 0, 0, 0, 1, 0, 0, 0, 0, 0, 0, 1, 3, 0, 0, 0, 0, 0, 0, 0, 3, 0, 0, 1, 0, 0, 0, 0, 1, 0, 0, 0, 0, 1, 0, 0, 0, 1, 0, 0, 1, 0, 0, 1, 0, 0, 3, 0, 0, 0, 0, 1, 0, 0, 0, 0, 0, 2, 0, 0, 0, 0, 0, 0, 0, 1, 0, 0, 2, 1, 0, 0, 0, 2, 0, 2, 0, 1, 0, 1, 1, 1, 0, 1, 0, 1, 1, 2, 1, 0, 0, 0, 0, 0, 2, 1, 0, 0, 0, 0, 0, 1, 0, 1, 3, 2, 0, 0, 0, 0, 0, 0, 1, 1, 0, 1, 1, 3, 0, 1, 1, 3, 0, 0, 3, 1, 1, 0, 0, 0, 0, 0, 0, 0, 0, 0, 0, 0, 0, 0, 2, 0, 0, 0, 2, 0, 1, 1, 0, 0, 1, 0, 0, 0, 1, 0, 1, 1, 0, 0, 3, 3, 0, 0, 0, 3, 0, 0, 0, 0, 0, 1, 0, 0, 0, 1, 0, 3, 0, 0, 0, 0, 0, 0, 0, 0, 1, 0, 0, 0, 1, 0, 0, 0, 0, 0, 0, 1, 0, 0, 0, 0, 0, 0, 0, 0, 1, 0, 3, 0, 0, 0, 0, 3, 0, 0, 0, 0, 1, 0, 1, 0, 0, 0, 3, 0, 1, 0, 1, 0, 1, 0, 0, 1, 0, 0, 0, 0, 1, 0, 0, 1, 0, 1, 0, 1, 0, 0, 0, 1, 0, 0, 0, 0, 1, 3, 1, 2, 1, 0, 0, 0, 1, 1, 1, 0, 0, 1, 0, 2, 2, 0, 1, 0, 0, 0, 0, 0, 1, 1, 0, 0, 0, 0, 0, 0, 0, 1, 0, 0, 0, 0, 0, 3, 1, 0, 0, 0, 1, 2, 1, 0, 1, 0, 0, 1, 0, 0, 0, 0, 0, 0, 0, 0, 0, 2, 1, 0, 0, 3, 0, 0, 1, 0, 0, 0, 0, 3, 1, 1, 0, 0, 0, 0, 0, 0, 1, 1, 0, 0, 0, 0, 0, 0, 1, 0, 1, 0, 0, 0, 3, 1, 0, 0, 1, 0, 0, 0, 1, 0, 0, 0, 0, 0, 0, 1, 0, 2, 2, 1, 0, 0, 1, 3, 0, 1, 0, 0, 0, 0, 0, 0, 0, 0, 1, 1, 1, 1, 0, 0, 0, 0, 0, 0, 0, 0, 0, 0, 0, 1, 1, 0, 1, 0, 1, 1, 1, 0, 0, 0, 0, 0, 0, 0, 0, 1, 0, 0, 0, 0, 0, 0, 1, 0, 0, 1, 1, 1, 0, 0, 1, 0, 1, 0, 0, 0, 0, 0, 0, 0, 0, 0, 0, 0, 0, 1, 1, 0, 0, 0, 2, 1, 0, 0, 0, 0, 0, 0, 0, 0, 0, 0, 1, 0, 0, 0, 0, 0, 0, 0, 0, 0, 1, 1, 0, 0, 0, 0, 0, 0, 2, 1, 0, 0, 0, 0, 1, 0, 0, 0, 0, 3, 0, 1, 1, 0, 0, 0, 0, 2, 1, 1, 0, 0, 0, 1, 0, 0, 3, 0, 0, 0, 0, 1, 0, 0, 0, 1, 1, 0, 0, 0, 0, 0, 0, 0, 0, 1, 0, 3, 2, 0, 1, 3, 0, 0, 0, 0, 0, 0, 0, 0, 0, 0, 0, 0, 0, 0, 0, 1, 0, 0, 0, 0, 1, 0, 1, 0, 0, 2, 0, 1, 0, 1, 0, 0, 1, 1, 0, 0, 0, 1, 0, 1, 1, 0, 0, 1, 1, 0, 2, 1, 1, 0, 0, 0, 0, 3, 1, 0, 1, 0, 1, 0, 0, 1, 0, 0, 0, 2, 0, 3, 1, 3, 0, 1, 0, 0, 0, 0, 1, 0, 0, 0, 0, 1, 0, 0, 0, 2, 0, 0, 0, 0, 0, 0, 1, 0, 0, 0, 0, 0, 0, 0, 0, 0, 0, 0, 1, 0, 0, 0, 1, 0, 1, 0, 0, 0, 1, 0, 0, 1, 0, 0, 1, 1, 0, 3, 0, 0, 0, 0, 0, 0, 0, 2, 0, 1, 0, 0, 1, 0, 0, 1, 0, 0, 1, 3, 0, 0, 0, 2, 0, 0, 0, 0, 0, 1, 0, 1, 0, 0, 0, 1, 0, 0, 1, 0, 0, 0, 0, 1, 3, 1, 2, 0, 0, 0, 1, 0, 0, 0, 1, 2, 2, 1, 0, 0, 0, 1, 0, 1, 0, 0, 0, 0, 0, 0, 0, 0, 0, 1, 2, 0, 0, 0, 0, 0, 3, 0, 0, 0, 1, 1, 0, 0, 0, 0, 2, 0, 1, 1, 0, 0, 0, 0, 0, 0, 0, 0, 1, 0, 0, 0, 0, 1, 0, 0, 1, 0, 1, 0, 0, 0, 3, 1, 0, 0, 1, 0, 0, 0, 0, 1, 0, 0, 0, 0, 3, 1, 1, 3, 0, 0, 0, 0, 0, 0, 0, 1, 1, 0, 0, 1, 1, 0, 0, 0, 0, 0, 0, 1, 0, 0, 0, 1, 0, 0, 0, 0, 0, 0, 0, 0, 0, 1, 0, 0, 0, 0, 1, 0, 0, 0, 1, 0, 0, 0, 0, 0, 0, 0, 0, 1, 0, 0, 0, 0, 0, 0, 0, 0, 0, 0, 0, 1, 1, 0, 0, 0, 0, 1, 0, 0, 0, 1, 0, 1, 0, 0, 0, 3, 0, 0, 0, 0, 0, 0, 0, 0, 1, 0, 1, 0, 0, 1, 0, 2, 0, 1, 0, 0, 0, 0, 0, 0, 0, 1, 0, 0, 1, 0, 0, 0, 0, 0, 0, 0, 0, 0, 0, 0, 1, 1, 3, 0, 0, 0, 0, 0, 1, 2, 0, 1, 1, 1, 0, 0, 0, 1, 1, 1, 0, 2, 0]\n"
     ]
    }
   ],
   "source": [
    "from sklearn.model_selection import train_test_split\n",
    "car_data = get_inst_features_from_file(\"car.data\")\n",
    "labels = get_inst_labels_from_file(\"car.data\")\n",
    "\n",
    "\n",
    "X_train, X_test, y_train, y_test = train_test_split(car_data, labels, test_size=0.25, random_state=16)\n",
    "print(X_test[0])\n",
    "print(y_train)"
   ]
  },
  {
   "cell_type": "code",
   "execution_count": 160,
   "metadata": {},
   "outputs": [
    {
     "name": "stdout",
     "output_type": "stream",
     "text": [
      "432\n",
      "[0 0 0 0 0 0 0 1 3 0 0 1 0 0 1 0 0 1 0 0 0 1 1 0 2 0 1 0 0 0 0 0 0 0 1 0 0\n",
      " 0 1 0 0 1 0 0 1 0 0 0 0 0 0 0 0 0 0 0 1 0 0 0 0 0 1 1 3 2 0 0 0 0 0 1 0 1\n",
      " 0 0 0 1 1 0 0 0 1 0 0 0 1 0 0 0 0 0 1 0 0 0 0 0 0 0 0 0 0 0 0 1 0 0 0 1 0\n",
      " 0 0 1 0 0 0 0 3 0 0 0 1 0 0 0 0 1 0 1 1 0 0 1 1 0 1 0 0 0 0 1 0 2 0 0 2 0\n",
      " 0 0 0 0 0 0 0 0 0 0 1 1 3 1 0 0 0 0 1 0 1 0 0 1 0 0 1 1 0 0 0 0 0 0 0 0 0\n",
      " 0 1 0 0 0 0 2 0 3 2 0 1 1 0 0 3 0 0 3 0 0 0 0 0 0 0 1 0 0 0 0 0 0 0 0 0 0\n",
      " 0 0 1 0 0 0 0 1 0 0 0 0 0 1 2 0 1 1 0 0 0 0 0 0 0 0 2 0 1 0 0 0 0 0 1 0 0\n",
      " 0 0 1 1 0 0 0 0 0 1 0 1 0 0 0 0 0 0 0 0 1 1 0 1 0 0 0 1 0 3 1 0 0 0 0 1 1\n",
      " 1 0 1 1 0 3 0 0 0 0 1 0 0 0 0 0 0 0 0 0 0 1 0 0 0 0 0 0 0 0 0 0 0 0 0 0 0\n",
      " 0 2 2 0 0 0 1 0 1 0 0 0 3 3 1 1 0 0 0 0 0 1 1 0 0 0 3 0 1 0 1 0 0 0 0 0 0\n",
      " 1 0 0 0 0 0 0 0 0 0 0 0 0 2 0 0 0 1 0 0 0 0 0 1 0 0 0 0 0 0 0 0 1 0 0 0 0\n",
      " 1 0 0 0 0 1 1 0 0 0 0 1 1 3 0 0 0 0 0 0 0 0 0 0 0]\n"
     ]
    },
    {
     "data": {
      "text/plain": [
       "array([[288,   9,   2,   0],\n",
       "       [ 35,  64,   0,   1],\n",
       "       [  1,   6,   8,   0],\n",
       "       [  0,   5,   1,  12]], dtype=int64)"
      ]
     },
     "execution_count": 160,
     "metadata": {},
     "output_type": "execute_result"
    }
   ],
   "source": [
    "#logistic regression\n",
    "#link to where I got this from https://www.datacamp.com/tutorial/understanding-logistic-regression-python\n",
    "#not sure if it looks right for what it is returning\n",
    "logreg = LogisticRegression(random_state=16, solver='newton-cg')\n",
    "logreg.fit(X_train,y_train)\n",
    "y_pred = logreg.predict(X_test)\n",
    "print(len(X_test))\n",
    "print(y_pred)\n",
    "cnf_matrix = metrics.confusion_matrix(y_test, y_pred)\n",
    "cnf_matrix"
   ]
  },
  {
   "cell_type": "code",
   "execution_count": 232,
   "metadata": {},
   "outputs": [],
   "source": [
    "car_data = get_data_from_file(\"car.data\")\n"
   ]
  },
  {
   "cell_type": "code",
   "execution_count": 161,
   "metadata": {},
   "outputs": [],
   "source": [
    "def get_entropy(instances, class1, class2, class3, class4):\n",
    "    count1 = 0\n",
    "    count2 = 0\n",
    "    count3 = 0\n",
    "    count4 = 0\n",
    "    # HINT: Get counts for both classes\n",
    "    for x in instances:\n",
    "        # print(x[len(x)-1])  \n",
    "        if(x[len(x)-1] == class1):\n",
    "            count1 += 1\n",
    "        elif(x[len(x)-1] == class2): \n",
    "            count2 += 1\n",
    "        elif(x[len(x)-1] == class3):\n",
    "            count3 += 1\n",
    "        elif(x[len(x)-1] == class4):\n",
    "            count4 += 1\n",
    "    \n",
    "    # HINT: Get class count for both classes\n",
    "    ent1 = 0\n",
    "    ent2 = 0\n",
    "    ent3 = 0\n",
    "    ent4 = 0\n",
    "    total = len(instances)\n",
    "    if(total != 0):\n",
    "            ent1 = count1/total\n",
    "            ent2 = count2/total\n",
    "            ent3 = count3/total\n",
    "            ent4 = count4/total    \n",
    "    # HINT: Be careful! Remember that log(0) is undefined (regardless of the log's base)\n",
    "    if ent1 == 0 or ent2 == 0 or ent3 == 0 or ent4 == 0:\n",
    "        ent = 0\n",
    "    else:\n",
    "        ent = - ent1 * math.log2(ent1) - ent2 * math.log2(ent2) - ent3 * math.log2(ent3) - ent4 * math.log2(ent4)\n",
    "    return ent"
   ]
  },
  {
   "cell_type": "code",
   "execution_count": 162,
   "metadata": {},
   "outputs": [],
   "source": [
    "def get_cond_entropy(instances, feat_index, feat_vals, class1, class2, class3, class4):\n",
    "    num_inst = len(instances)\n",
    "    total_entropy = 0.0\n",
    "    # HINT: Iterate over all feat_vals (i.e., all values the current feature--feat_index--can take on).\n",
    "    for feat_val in feat_vals:\n",
    "        subset = []\n",
    "        for instance in instances:\n",
    "            if instance[feat_index] == feat_val:\n",
    "                subset.append(instance)\n",
    "\n",
    "    # HINT: Calculate probability of attribute taking on this value.\n",
    "    prob_feat = len(subset) / num_inst\n",
    "    \n",
    "    subset_entropy = get_entropy(subset, class1, class2,class3,class4)\n",
    "\n",
    "    if subset_entropy is not None:\n",
    "        calc = prob_feat * subset_entropy\n",
    "        total_entropy += calc\n",
    "\n",
    "    return total_entropy"
   ]
  },
  {
   "cell_type": "code",
   "execution_count": 233,
   "metadata": {},
   "outputs": [],
   "source": [
    "def get_info_gain(instances, feat_index, feat_vals, class1, class2, class3, class4):\n",
    "   # HINT: you should be able to just call your entropy and conditional entropy\n",
    "    #         functions you've already coded.    info_gain = 0\n",
    "    entropy = get_entropy(instances, 'unacc', 'acc', 'good', 'vgood')\n",
    "    cond_entropy = get_cond_entropy(instances, feat_index,feat_vals,class1,class2,class3,class4)\n",
    "    print(entropy)\n",
    "    print(cond_entropy)\n",
    "    if entropy is not None:\n",
    "        info_gain = entropy - cond_entropy\n",
    "    \n",
    "    return info_gain"
   ]
  },
  {
   "cell_type": "code",
   "execution_count": 234,
   "metadata": {},
   "outputs": [
    {
     "name": "stdout",
     "output_type": "stream",
     "text": [
      "c1,c2,c3,c4:  unacc acc good vgood\n",
      "1.2057409700121753\n",
      "0.3927430307668745\n",
      "1.2057409700121753\n",
      "0.37264844634513844\n",
      "1.2057409700121753\n",
      "0.0\n",
      "1.2057409700121753\n",
      "0.492504696573998\n",
      "1.2057409700121753\n",
      "0.4570720931604722\n",
      "1.2057409700121753\n",
      "0.5385039498598707\n"
     ]
    }
   ],
   "source": [
    "all_IGs = []\n",
    "c1,c2,c3,c4 = car_attribs[len(car_attribs)-1]\n",
    "print(\"c1,c2,c3,c4: \", c1,c2,c3,c4)  # Two class values\n",
    "\n",
    "for i in range(len(car_attribs)-1):\n",
    "    all_IGs.append(get_info_gain(car_data, i, car_attribs[i],c1,c2,c3,c4))"
   ]
  },
  {
   "cell_type": "code",
   "execution_count": 235,
   "metadata": {},
   "outputs": [
    {
     "name": "stdout",
     "output_type": "stream",
     "text": [
      "[0.8129979392453008, 0.8330925236670368, 1.2057409700121753, 0.7132362734381773, 0.7486688768517031, 0.6672370201523046]\n"
     ]
    }
   ],
   "source": [
    "print(all_IGs)"
   ]
  }
 ],
 "metadata": {
  "kernelspec": {
   "display_name": "Python 3 (ipykernel)",
   "language": "python",
   "name": "python3"
  },
  "language_info": {
   "codemirror_mode": {
    "name": "ipython",
    "version": 3
   },
   "file_extension": ".py",
   "mimetype": "text/x-python",
   "name": "python",
   "nbconvert_exporter": "python",
   "pygments_lexer": "ipython3",
   "version": "3.11.0"
  }
 },
 "nbformat": 4,
 "nbformat_minor": 2
}
