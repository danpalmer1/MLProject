{
 "cells": [
  {
   "cell_type": "code",
   "execution_count": 36,
   "metadata": {},
   "outputs": [],
   "source": [
    "import math\n",
    "import sklearn\n",
    "import matplotlib\n",
    "from sklearn import tree\n",
    "from sklearn import metrics\n",
    "from sklearn.linear_model import LogisticRegression"
   ]
  },
  {
   "cell_type": "code",
   "execution_count": 38,
   "metadata": {},
   "outputs": [],
   "source": [
    "#method to get feature names from attributes file\n",
    "def get_features(filename):\n",
    "    feat_list = []\n",
    "    fin = open(filename, \"r\")\n",
    "\n",
    "    for line in fin:\n",
    "        attrib = line.strip().split(':')\n",
    "        feat_list.append(attrib[0])\n",
    "\n",
    "    return feat_list"
   ]
  },
  {
   "cell_type": "code",
   "execution_count": 39,
   "metadata": {},
   "outputs": [
    {
     "name": "stdout",
     "output_type": "stream",
     "text": [
      "['buying', 'maint', 'doors', 'persons', 'lug_boot', 'safety', 'label']\n"
     ]
    }
   ],
   "source": [
    "feat_names = get_features(\"car.c45-names\")\n",
    "print(feat_names)"
   ]
  },
  {
   "cell_type": "code",
   "execution_count": 42,
   "metadata": {},
   "outputs": [
    {
     "name": "stdout",
     "output_type": "stream",
     "text": [
      "1141\n",
      "587\n",
      "['vhigh', 'vhigh', '2', '2', 'small', 'med', 'unacc']\n"
     ]
    }
   ],
   "source": [
    "cutoff =  math.ceil(len(car_data) * .66) #2/3 | 1/3 split\n",
    "training_set = car_data[:cutoff] #2/3 for training\n",
    "test_set = car_data[cutoff:] #1/3 for testing\n",
    "\n",
    "print(len(training_set))\n",
    "print(len(test_set))\n",
    "print(training_set[1])"
   ]
  },
  {
   "cell_type": "code",
   "execution_count": 43,
   "metadata": {},
   "outputs": [
    {
     "name": "stdout",
     "output_type": "stream",
     "text": [
      "['vhigh', 'vhigh', '2', '2', 'small']\n",
      "['buying', 'maint', 'doors', 'persons', 'lug_boot', 'safety', 'label']\n",
      "unacc\n"
     ]
    }
   ],
   "source": [
    "#break up training instances into features (X) and label (Y)\n",
    "X_train = [training_set[i][:len(training_set[i])-2] for i in range(len(training_set))]\n",
    "Y_train = [(training_set[i][len(training_set[i])-1]) for i in range(len(training_set))]\n",
    "print(X_train[0])\n",
    "print(feat_names)\n",
    "print(Y_train[0])"
   ]
  },
  {
   "cell_type": "code",
   "execution_count": 44,
   "metadata": {},
   "outputs": [
    {
     "name": "stdout",
     "output_type": "stream",
     "text": [
      "['med', 'med', '4', '2', 'big']\n",
      "unacc\n"
     ]
    }
   ],
   "source": [
    "X_test = [test_set[i][:len(test_set[i])-2] for i in range(len(test_set))]\n",
    "Y_test = [(training_set[i][len(training_set[i])-1]) for i in range(len(training_set))]\n",
    "print(X_test[0])\n",
    "print(Y_test[0])"
   ]
  },
  {
   "cell_type": "code",
   "execution_count": 83,
   "metadata": {},
   "outputs": [
    {
     "name": "stdout",
     "output_type": "stream",
     "text": [
      "1728\n",
      "1728\n"
     ]
    }
   ],
   "source": [
    "def get_inst_features_from_file(filename):\n",
    "    instances = []\n",
    "    fin = open(filename, \"r\")\n",
    "\n",
    "    for line in fin:\n",
    "        inst = []\n",
    "        data = line.strip().split(\",\")\n",
    "        #buying\n",
    "        if data[0] == \"vhigh\":\n",
    "            inst.append(0)\n",
    "        elif data[0] == \"high\":\n",
    "            inst.append(1)\n",
    "        elif data[0] == \"med\":\n",
    "            inst.append(2)\n",
    "        elif data[0] == \"low\":\n",
    "            inst.append(3)\n",
    "        #maint\n",
    "        if data[1] == \"vhigh\":\n",
    "            inst.append(0)\n",
    "        elif data[1] == \"high\":\n",
    "            inst.append(1)\n",
    "        elif data[1] == \"med\":\n",
    "            inst.append(2)\n",
    "        elif data[1] == \"low\":\n",
    "            inst.append(3)\n",
    "        #doors\n",
    "        if data[2] == \"5more\":\n",
    "            inst.append(6)\n",
    "        else:\n",
    "            inst.append(int(data[2]))\n",
    "        #persons\n",
    "        if data[3] == \"more\":\n",
    "            inst.append(5)\n",
    "        else:\n",
    "            inst.append(int(data[3]))\n",
    "        #trunk (lug_boot)\n",
    "        if data[4] == \"small\":\n",
    "            inst.append(0)\n",
    "        elif data[4] == \"med\":\n",
    "            inst.append(1)\n",
    "        elif data[4] == \"big\":\n",
    "            inst.append(2)\n",
    "        #safety\n",
    "        if data[5] == \"low\":\n",
    "            inst.append(0)\n",
    "        elif data[5] == \"med\":\n",
    "            inst.append(1)\n",
    "        elif data[5] == \"high\":\n",
    "            inst.append(2)\n",
    "        instances.append(inst)\n",
    "\n",
    "    fin.close()\n",
    "\n",
    "    return instances\n",
    "\n",
    "def get_inst_labels_from_file(filename):\n",
    "    labels = []\n",
    "    fin = open(filename, \"r\")\n",
    "\n",
    "    for line in fin:\n",
    "        data = line.strip().split(\",\")\n",
    "        if data[6] == \"unacc\":\n",
    "            labels.append(0)\n",
    "        elif data[6] == \"acc\":\n",
    "            labels.append(1)\n",
    "        elif data[6] == \"good\":\n",
    "            labels.append(2)\n",
    "        elif data[6] == \"vgood\":\n",
    "            labels.append(3)\n",
    "\n",
    "    fin.close()\n",
    "\n",
    "    return labels\n",
    "\n",
    "inst = get_inst_features_from_file(\"car.data\")\n",
    "label = get_inst_labels_from_file(\"car.data\")\n",
    "print(len(inst))\n",
    "print(len(label))"
   ]
  },
  {
   "cell_type": "code",
   "execution_count": 107,
   "metadata": {},
   "outputs": [
    {
     "data": {
      "text/plain": [
       "0.8333333333333334"
      ]
     },
     "execution_count": 107,
     "metadata": {},
     "output_type": "execute_result"
    },
    {
     "data": {
      "image/png": "[encoded data removed]",
      "text/plain": [
       "<Figure size 640x480 with 1 Axes>"
      ]
     },
     "metadata": {},
     "output_type": "display_data"
    }
   ],
   "source": [
    "data = get_inst_features_from_file(\"car.data\")\n",
    "labels = get_inst_labels_from_file(\"car.data\")\n",
    "\n",
    "#chose to cutoff the backend of data for training since first several hundred instances are mostly labeled as 0\n",
    "cutoff =  math.ceil(len(data) * .25) #75% | 25% split\n",
    "training_set_x = data[cutoff:] #75% for training\n",
    "training_set_y = labels[cutoff:]\n",
    "test_set_x = data[:cutoff] #25% for testing\n",
    "test_set_y = labels[:cutoff]\n",
    "# print(training_set_x[0])\n",
    "# print(training_set_y)\n",
    "# print(test_set_x[0])\n",
    "# print(test_set_y)\n",
    "\n",
    "clf = tree.DecisionTreeClassifier(criterion='entropy', max_depth=5)\n",
    "clf = clf.fit(training_set_x, training_set_y)\n",
    "tree.plot_tree(clf)\n",
    "\n",
    "pred = clf.predict(test_set_x)\n",
    "metrics.accuracy_score(test_set_y, pred)"
   ]
  },
  {
   "cell_type": "code",
   "execution_count": 111,
   "metadata": {},
   "outputs": [
    {
     "name": "stdout",
     "output_type": "stream",
     "text": [
      "[0, 0, 3, 4, 2, 1]\n",
      "[3, 0, 1, 0, 1, 0, 0, 0, 0, 3, 0, 0, 1, 0, 0, 0, 1, 2, 0, 0, 0, 0, 0, 2, 0, 1, 0, 0, 0, 1, 1, 3, 1, 1, 0, 1, 1, 0, 2, 1, 1, 0, 0, 1, 0, 1, 0, 0, 0, 0, 1, 0, 0, 0, 1, 0, 2, 0, 0, 0, 0, 0, 0, 0, 0, 0, 0, 1, 0, 0, 0, 0, 1, 1, 1, 2, 0, 0, 0, 1, 2, 1, 0, 0, 0, 3, 1, 2, 0, 1, 1, 2, 2, 2, 0, 0, 0, 0, 0, 0, 0, 2, 0, 0, 0, 0, 0, 1, 3, 1, 0, 1, 0, 0, 0, 0, 0, 0, 0, 1, 0, 0, 1, 0, 0, 1, 2, 0, 0, 0, 1, 0, 1, 0, 0, 0, 0, 3, 1, 0, 0, 0, 1, 1, 0, 1, 0, 0, 0, 0, 1, 0, 0, 0, 0, 0, 0, 1, 0, 0, 1, 0, 0, 0, 0, 1, 0, 0, 1, 0, 0, 2, 1, 1, 1, 0, 0, 0, 0, 0, 0, 0, 0, 0, 0, 0, 0, 1, 0, 0, 0, 0, 1, 0, 0, 0, 0, 0, 0, 1, 0, 0, 0, 0, 0, 1, 0, 0, 0, 0, 1, 0, 0, 2, 0, 0, 0, 0, 3, 0, 0, 0, 1, 0, 0, 0, 0, 0, 0, 0, 0, 1, 0, 0, 0, 0, 0, 1, 0, 0, 0, 0, 0, 0, 3, 0, 0, 0, 1, 0, 1, 0, 2, 0, 0, 0, 0, 0, 2, 0, 1, 2, 1, 0, 3, 0, 0, 0, 0, 0, 2, 1, 0, 1, 0, 0, 0, 1, 0, 0, 0, 0, 1, 0, 0, 0, 2, 0, 0, 0, 1, 0, 0, 0, 1, 0, 1, 0, 1, 0, 1, 0, 0, 1, 0, 1, 1, 0, 0, 0, 0, 3, 0, 0, 1, 0, 0, 0, 2, 0, 0, 0, 0, 0, 0, 0, 0, 0, 1, 0, 0, 0, 0, 0, 0, 0, 0, 3, 0, 1, 0, 0, 0, 0, 1, 0, 0, 0, 0, 0, 0, 0, 0, 0, 1, 0, 0, 0, 0, 0, 1, 0, 0, 0, 0, 1, 0, 0, 0, 0, 0, 0, 1, 3, 0, 0, 0, 0, 0, 0, 0, 3, 0, 0, 1, 0, 0, 0, 0, 1, 0, 0, 0, 0, 1, 0, 0, 0, 1, 0, 0, 1, 0, 0, 1, 0, 0, 3, 0, 0, 0, 0, 1, 0, 0, 0, 0, 0, 2, 0, 0, 0, 0, 0, 0, 0, 1, 0, 0, 2, 1, 0, 0, 0, 2, 0, 2, 0, 1, 0, 1, 1, 1, 0, 1, 0, 1, 1, 2, 1, 0, 0, 0, 0, 0, 2, 1, 0, 0, 0, 0, 0, 1, 0, 1, 3, 2, 0, 0, 0, 0, 0, 0, 1, 1, 0, 1, 1, 3, 0, 1, 1, 3, 0, 0, 3, 1, 1, 0, 0, 0, 0, 0, 0, 0, 0, 0, 0, 0, 0, 0, 2, 0, 0, 0, 2, 0, 1, 1, 0, 0, 1, 0, 0, 0, 1, 0, 1, 1, 0, 0, 3, 3, 0, 0, 0, 3, 0, 0, 0, 0, 0, 1, 0, 0, 0, 1, 0, 3, 0, 0, 0, 0, 0, 0, 0, 0, 1, 0, 0, 0, 1, 0, 0, 0, 0, 0, 0, 1, 0, 0, 0, 0, 0, 0, 0, 0, 1, 0, 3, 0, 0, 0, 0, 3, 0, 0, 0, 0, 1, 0, 1, 0, 0, 0, 3, 0, 1, 0, 1, 0, 1, 0, 0, 1, 0, 0, 0, 0, 1, 0, 0, 1, 0, 1, 0, 1, 0, 0, 0, 1, 0, 0, 0, 0, 1, 3, 1, 2, 1, 0, 0, 0, 1, 1, 1, 0, 0, 1, 0, 2, 2, 0, 1, 0, 0, 0, 0, 0, 1, 1, 0, 0, 0, 0, 0, 0, 0, 1, 0, 0, 0, 0, 0, 3, 1, 0, 0, 0, 1, 2, 1, 0, 1, 0, 0, 1, 0, 0, 0, 0, 0, 0, 0, 0, 0, 2, 1, 0, 0, 3, 0, 0, 1, 0, 0, 0, 0, 3, 1, 1, 0, 0, 0, 0, 0, 0, 1, 1, 0, 0, 0, 0, 0, 0, 1, 0, 1, 0, 0, 0, 3, 1, 0, 0, 1, 0, 0, 0, 1, 0, 0, 0, 0, 0, 0, 1, 0, 2, 2, 1, 0, 0, 1, 3, 0, 1, 0, 0, 0, 0, 0, 0, 0, 0, 1, 1, 1, 1, 0, 0, 0, 0, 0, 0, 0, 0, 0, 0, 0, 1, 1, 0, 1, 0, 1, 1, 1, 0, 0, 0, 0, 0, 0, 0, 0, 1, 0, 0, 0, 0, 0, 0, 1, 0, 0, 1, 1, 1, 0, 0, 1, 0, 1, 0, 0, 0, 0, 0, 0, 0, 0, 0, 0, 0, 0, 1, 1, 0, 0, 0, 2, 1, 0, 0, 0, 0, 0, 0, 0, 0, 0, 0, 1, 0, 0, 0, 0, 0, 0, 0, 0, 0, 1, 1, 0, 0, 0, 0, 0, 0, 2, 1, 0, 0, 0, 0, 1, 0, 0, 0, 0, 3, 0, 1, 1, 0, 0, 0, 0, 2, 1, 1, 0, 0, 0, 1, 0, 0, 3, 0, 0, 0, 0, 1, 0, 0, 0, 1, 1, 0, 0, 0, 0, 0, 0, 0, 0, 1, 0, 3, 2, 0, 1, 3, 0, 0, 0, 0, 0, 0, 0, 0, 0, 0, 0, 0, 0, 0, 0, 1, 0, 0, 0, 0, 1, 0, 1, 0, 0, 2, 0, 1, 0, 1, 0, 0, 1, 1, 0, 0, 0, 1, 0, 1, 1, 0, 0, 1, 1, 0, 2, 1, 1, 0, 0, 0, 0, 3, 1, 0, 1, 0, 1, 0, 0, 1, 0, 0, 0, 2, 0, 3, 1, 3, 0, 1, 0, 0, 0, 0, 1, 0, 0, 0, 0, 1, 0, 0, 0, 2, 0, 0, 0, 0, 0, 0, 1, 0, 0, 0, 0, 0, 0, 0, 0, 0, 0, 0, 1, 0, 0, 0, 1, 0, 1, 0, 0, 0, 1, 0, 0, 1, 0, 0, 1, 1, 0, 3, 0, 0, 0, 0, 0, 0, 0, 2, 0, 1, 0, 0, 1, 0, 0, 1, 0, 0, 1, 3, 0, 0, 0, 2, 0, 0, 0, 0, 0, 1, 0, 1, 0, 0, 0, 1, 0, 0, 1, 0, 0, 0, 0, 1, 3, 1, 2, 0, 0, 0, 1, 0, 0, 0, 1, 2, 2, 1, 0, 0, 0, 1, 0, 1, 0, 0, 0, 0, 0, 0, 0, 0, 0, 1, 2, 0, 0, 0, 0, 0, 3, 0, 0, 0, 1, 1, 0, 0, 0, 0, 2, 0, 1, 1, 0, 0, 0, 0, 0, 0, 0, 0, 1, 0, 0, 0, 0, 1, 0, 0, 1, 0, 1, 0, 0, 0, 3, 1, 0, 0, 1, 0, 0, 0, 0, 1, 0, 0, 0, 0, 3, 1, 1, 3, 0, 0, 0, 0, 0, 0, 0, 1, 1, 0, 0, 1, 1, 0, 0, 0, 0, 0, 0, 1, 0, 0, 0, 1, 0, 0, 0, 0, 0, 0, 0, 0, 0, 1, 0, 0, 0, 0, 1, 0, 0, 0, 1, 0, 0, 0, 0, 0, 0, 0, 0, 1, 0, 0, 0, 0, 0, 0, 0, 0, 0, 0, 0, 1, 1, 0, 0, 0, 0, 1, 0, 0, 0, 1, 0, 1, 0, 0, 0, 3, 0, 0, 0, 0, 0, 0, 0, 0, 1, 0, 1, 0, 0, 1, 0, 2, 0, 1, 0, 0, 0, 0, 0, 0, 0, 1, 0, 0, 1, 0, 0, 0, 0, 0, 0, 0, 0, 0, 0, 0, 1, 1, 3, 0, 0, 0, 0, 0, 1, 2, 0, 1, 1, 1, 0, 0, 0, 1, 1, 1, 0, 2, 0]\n"
     ]
    }
   ],
   "source": [
    "from sklearn.model_selection import train_test_split\n",
    "car_data = get_inst_features_from_file(\"car.data\")\n",
    "labels = get_inst_labels_from_file(\"car.data\")\n",
    "\n",
    "\n",
    "X_train, X_test, y_train, y_test = train_test_split(car_data, labels, test_size=0.25, random_state=16)\n",
    "print(X_test[0])\n",
    "print(y_train)"
   ]
  },
  {
   "cell_type": "code",
   "execution_count": 112,
   "metadata": {},
   "outputs": [
    {
     "name": "stdout",
     "output_type": "stream",
     "text": [
      "432\n",
      "[0 0 0 0 0 0 0 1 3 0 0 1 0 0 1 0 0 1 0 0 0 1 1 0 2 0 1 0 0 0 0 0 0 0 1 0 0\n",
      " 0 1 0 0 1 0 0 1 0 0 0 0 0 0 0 0 0 0 0 1 0 0 0 0 0 1 2 3 3 0 0 0 0 0 1 0 2\n",
      " 0 0 0 1 1 0 0 0 1 0 0 0 1 0 0 0 0 0 1 0 0 0 0 0 0 0 0 0 0 0 0 1 0 0 0 1 0\n",
      " 0 0 1 0 0 0 0 3 0 0 0 1 0 0 0 0 1 0 1 1 0 0 1 1 0 1 0 0 0 0 1 0 2 0 0 2 0\n",
      " 0 0 0 0 0 0 0 0 0 0 1 1 3 1 0 0 0 0 1 0 1 0 0 1 0 0 1 1 0 0 0 0 0 0 0 0 0\n",
      " 0 1 0 0 0 0 2 0 3 2 0 1 1 0 0 3 0 0 3 0 0 0 0 0 0 0 1 0 0 0 0 0 0 0 0 0 0\n",
      " 0 0 1 0 0 0 0 1 0 0 0 0 0 1 2 0 1 1 0 0 0 0 0 0 0 0 2 0 1 0 0 0 0 0 1 0 0\n",
      " 0 0 1 1 0 0 0 0 0 1 0 1 0 0 0 0 0 0 0 0 1 1 0 1 0 0 0 1 0 3 1 0 0 0 0 1 1\n",
      " 1 0 1 1 0 3 0 0 0 0 1 0 0 0 0 0 0 0 0 0 0 1 0 0 0 0 0 0 0 0 0 0 0 0 0 0 0\n",
      " 0 2 2 0 0 0 1 0 1 0 0 0 3 3 1 1 0 0 0 0 0 1 1 0 0 0 3 0 1 0 1 0 0 0 0 0 0\n",
      " 1 0 0 0 0 0 0 0 0 0 0 0 0 2 0 0 0 1 0 0 0 0 0 1 0 0 0 0 0 0 0 0 1 0 0 0 0\n",
      " 1 0 0 0 0 1 1 0 0 0 0 3 1 3 0 0 0 0 0 0 0 0 0 0 0]\n"
     ]
    },
    {
     "name": "stderr",
     "output_type": "stream",
     "text": [
      "c:\\Python311\\Lib\\site-packages\\sklearn\\linear_model\\_logistic.py:460: ConvergenceWarning: lbfgs failed to converge (status=1):\n",
      "STOP: TOTAL NO. of ITERATIONS REACHED LIMIT.\n",
      "\n",
      "Increase the number of iterations (max_iter) or scale the data as shown in:\n",
      "    https://scikit-learn.org/stable/modules/preprocessing.html\n",
      "Please also refer to the documentation for alternative solver options:\n",
      "    https://scikit-learn.org/stable/modules/linear_model.html#logistic-regression\n",
      "  n_iter_i = _check_optimize_result(\n"
     ]
    },
    {
     "data": {
      "text/plain": [
       "array([[288,   9,   1,   1],\n",
       "       [ 35,  64,   0,   1],\n",
       "       [  1,   4,   9,   1],\n",
       "       [  0,   4,   2,  12]], dtype=int64)"
      ]
     },
     "execution_count": 112,
     "metadata": {},
     "output_type": "execute_result"
    }
   ],
   "source": [
    "#logitcal regression\n",
    "#link to where I got this from https://www.datacamp.com/tutorial/understanding-logistic-regression-python\n",
    "#not sure if it looks right for what it is returning\n",
    "logreg = LogisticRegression(random_state=16)\n",
    "logreg.fit(X_train,y_train)\n",
    "y_pred = logreg.predict(X_test)\n",
    "print(len(X_test))\n",
    "print(y_pred)\n",
    "cnf_matrix = metrics.confusion_matrix(y_test, y_pred)\n",
    "cnf_matrix"
   ]
  }
 ],
 "metadata": {
  "kernelspec": {
   "display_name": "Python 3 (ipykernel)",
   "language": "python",
   "name": "python3"
  },
  "language_info": {
   "codemirror_mode": {
    "name": "ipython",
    "version": 3
   },
   "file_extension": ".py",
   "mimetype": "text/x-python",
   "name": "python",
   "nbconvert_exporter": "python",
   "pygments_lexer": "ipython3",
   "version": "3.11.0"
  }
 },
 "nbformat": 4,
 "nbformat_minor": 2
}
